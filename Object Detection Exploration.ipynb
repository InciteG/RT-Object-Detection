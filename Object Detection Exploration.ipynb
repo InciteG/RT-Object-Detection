{
 "cells": [
  {
   "cell_type": "markdown",
   "id": "4036cafe",
   "metadata": {},
   "source": [
    "# Outline:\n",
    "\n",
    "1. Match template testing\n",
    "2. Image processing, HSV Thresholding\n",
    "3. Canny edge Detection\n",
    "4. Cascade Classifier"
   ]
  },
  {
   "cell_type": "code",
   "execution_count": 2,
   "id": "16eed3c2",
   "metadata": {},
   "outputs": [],
   "source": [
    "#package setup\n",
    "\n",
    "import cv2\n",
    "import matplotlib.pyplot as plt\n",
    "import pandas\n",
    "import numpy\n",
    "import scipy\n",
    "import seaborn\n",
    "import os\n",
    "from os import listdir\n",
    "from os.path import isfile, join\n"
   ]
  },
  {
   "cell_type": "markdown",
   "id": "6ad560d2",
   "metadata": {},
   "source": [
    "# Match Template"
   ]
  },
  {
   "cell_type": "code",
   "execution_count": null,
   "id": "cb0bd985",
   "metadata": {},
   "outputs": [],
   "source": []
  },
  {
   "cell_type": "code",
   "execution_count": 16,
   "id": "024e05a4",
   "metadata": {},
   "outputs": [
    {
     "name": "stdout",
     "output_type": "stream",
     "text": [
      "['back_deut_noch.jpg', 'back_left_noch.jpg', 'front_deut_noch.jpg', 'front_noch.jpg', 'left_front_noch.jpg', 'right_front_noch.jpg', 'right_side_noch.jpg', 'target.PNG']\n",
      "best match top left:(229, 654)\n",
      "best match confidence:0.5284883379936218\n",
      "No object detected\n"
     ]
    }
   ],
   "source": [
    "# single image, \n",
    "blob_path = r'C:\\Users\\notal\\Documents\\GitHub\\Guilty-Gear-Segmentation\\Media\\MatchTemplate'\n",
    "img_path = [f for f in listdir(blob_path)]\n",
    "print(img_path)\n",
    "imgs_color = [cv2.imread(blob_path+'\\\\'+i,cv2.IMREAD_COLOR) for i in img_path]\n",
    "\n",
    "main= imgs_color[6]\n",
    "target=cv2.imread(blob_path+'\\\\'+'target.png',cv2.IMREAD_COLOR)\n",
    "\n",
    "#get match template result\n",
    "result = cv2.matchTemplate(main,target, cv2.TM_CCOEFF_NORMED)\n",
    "\n",
    "#get match location and confidence\n",
    "min_val,max_val,min_loc,max_loc=cv2.minMaxLoc(result)\n",
    "print(f'best match top left:{max_loc}')\n",
    "print(f'best match confidence:{max_val}')\n",
    "\n",
    "#set threshold for object detected success \n",
    "threshold = .6\n",
    "if max_val>= threshold:\n",
    "    print('Object detected')\n",
    "    target_w=target.shape[1]\n",
    "    target_h=target.shape[0]\n",
    "    bottom_right_corner = (max_loc[0]+target_w,max_loc[1]+target_h)\n",
    "    cv2.rectangle(main, max_loc,bottom_right_corner,color=(0,255,0),thickness=2,lineType=cv2.LINE_4)\n",
    "else:\n",
    "    print('No object detected')\n",
    "\n",
    "# show result\n",
    "while(True):\n",
    "    cv2.imshow('Result', main)\n",
    "    if cv2.waitKey(1) == ord('q'):\n",
    "        cv2.destroyAllWindows()\n",
    "        break\n",
    "\n",
    "\n",
    "    "
   ]
  },
  {
   "cell_type": "markdown",
   "id": "53129d19",
   "metadata": {},
   "source": [
    "# Additional Image Processing"
   ]
  },
  {
   "cell_type": "markdown",
   "id": "ca0c204c",
   "metadata": {},
   "source": [
    "# Canny Edge Detection"
   ]
  },
  {
   "cell_type": "markdown",
   "id": "9b102945",
   "metadata": {},
   "source": [
    "# Cascade Classifier"
   ]
  },
  {
   "cell_type": "code",
   "execution_count": null,
   "id": "87297f11",
   "metadata": {},
   "outputs": [],
   "source": []
  }
 ],
 "metadata": {
  "kernelspec": {
   "display_name": "Python 3",
   "language": "python",
   "name": "python3"
  },
  "language_info": {
   "codemirror_mode": {
    "name": "ipython",
    "version": 3
   },
   "file_extension": ".py",
   "mimetype": "text/x-python",
   "name": "python",
   "nbconvert_exporter": "python",
   "pygments_lexer": "ipython3",
   "version": "3.8.8"
  }
 },
 "nbformat": 4,
 "nbformat_minor": 5
}
